{
 "cells": [
  {
   "cell_type": "code",
   "execution_count": 80,
   "metadata": {
    "collapsed": false
   },
   "outputs": [
    {
     "name": "stdout",
     "output_type": "stream",
     "text": [
      "The autoreload extension is already loaded. To reload it, use:\n",
      "  %reload_ext autoreload\n"
     ]
    }
   ],
   "source": [
    "%load_ext autoreload\n",
    "%autoreload 2\n",
    "\n",
    "# Imports\n",
    "import sys\n",
    "import datetime\n",
    "sys.path.append('classes/')\n",
    "sys.path.append('modules/')\n",
    "from subroutine import Subroutine\n",
    "from workout import Workout\n",
    "from xset import xSet"
   ]
  },
  {
   "cell_type": "code",
   "execution_count": 81,
   "metadata": {
    "collapsed": false
   },
   "outputs": [
    {
     "ename": "AttributeError",
     "evalue": "Workout instance has no attribute 'get_total_sets'",
     "output_type": "error",
     "traceback": [
      "\u001b[0;31m---------------------------------------------------------------------------\u001b[0m",
      "\u001b[0;31mAttributeError\u001b[0m                            Traceback (most recent call last)",
      "\u001b[0;32m<ipython-input-81-053e2f65b6c5>\u001b[0m in \u001b[0;36m<module>\u001b[0;34m()\u001b[0m\n\u001b[1;32m     67\u001b[0m \u001b[0mworkout\u001b[0m\u001b[0;34m.\u001b[0m\u001b[0mcalculate_volume\u001b[0m\u001b[0;34m(\u001b[0m\u001b[0;34m)\u001b[0m\u001b[0;34m\u001b[0m\u001b[0m\n\u001b[1;32m     68\u001b[0m \u001b[0;34m\u001b[0m\u001b[0m\n\u001b[0;32m---> 69\u001b[0;31m \u001b[0;32mprint\u001b[0m \u001b[0mworkout\u001b[0m\u001b[0;34m.\u001b[0m\u001b[0mget_avg_set_time\u001b[0m\u001b[0;34m(\u001b[0m\u001b[0;34m)\u001b[0m\u001b[0;34m\u001b[0m\u001b[0m\n\u001b[0m\u001b[1;32m     70\u001b[0m \u001b[0;34m\u001b[0m\u001b[0m\n\u001b[1;32m     71\u001b[0m \u001b[0;34m\u001b[0m\u001b[0m\n",
      "\u001b[0;32m/Users/kelvin/Dropbox/Documents/CS294S/workout_logger/classes/workout.py\u001b[0m in \u001b[0;36mget_avg_set_time\u001b[0;34m(self)\u001b[0m\n\u001b[1;32m    102\u001b[0m         \u001b[0;32mdef\u001b[0m \u001b[0mget_avg_set_time\u001b[0m\u001b[0;34m(\u001b[0m\u001b[0mself\u001b[0m\u001b[0;34m)\u001b[0m\u001b[0;34m:\u001b[0m\u001b[0;34m\u001b[0m\u001b[0m\n\u001b[1;32m    103\u001b[0m                 \u001b[0;34m\"\"\" get the average time per set of a workout \"\"\"\u001b[0m\u001b[0;34m\u001b[0m\u001b[0m\n\u001b[0;32m--> 104\u001b[0;31m                 \u001b[0;32mreturn\u001b[0m \u001b[0mself\u001b[0m\u001b[0;34m.\u001b[0m\u001b[0mget_total_set_time\u001b[0m\u001b[0;34m(\u001b[0m\u001b[0;34m)\u001b[0m \u001b[0;34m*\u001b[0m \u001b[0;36m1.0\u001b[0m \u001b[0;34m/\u001b[0m \u001b[0mself\u001b[0m\u001b[0;34m.\u001b[0m\u001b[0mget_total_sets\u001b[0m\u001b[0;34m(\u001b[0m\u001b[0;34m)\u001b[0m\u001b[0;34m\u001b[0m\u001b[0m\n\u001b[0m\u001b[1;32m    105\u001b[0m \u001b[0;34m\u001b[0m\u001b[0m\n",
      "\u001b[0;31mAttributeError\u001b[0m: Workout instance has no attribute 'get_total_sets'"
     ]
    }
   ],
   "source": [
    "# Creating sets\n",
    "bench_set_1 = xSet(\"bench press\", 100, 5)\n",
    "\n",
    "bench_set_2 = xSet(\"bench press\", 110, 5)\n",
    "bench_set_2.time += datetime.timedelta(0, 10)\n",
    "\n",
    "bench_set_3 = xSet(\"bench press\", 120, 5)\n",
    "bench_set_3.time += datetime.timedelta(0, 20)\n",
    "\n",
    "bench_set_4 = xSet(\"bench press\", 130, 5)\n",
    "bench_set_4.time += datetime.timedelta(0, 30)\n",
    "\n",
    "pushup_set_1 = xSet(\"push up\", None, 10)\n",
    "pushup_set_2 = xSet(\"push up\", None, 10)\n",
    "pushup_set_3 = xSet(\"push up\", None, 10)\n",
    "\n",
    "squat_set_1 = xSet(\"squat\", 200, 5)\n",
    "squat_set_1.time += datetime.timedelta(0, 40)\n",
    "\n",
    "squat_set_2 = xSet(\"squat\", 220, 5)\n",
    "squat_set_2.time += datetime.timedelta(0, 60)\n",
    "\n",
    "squat_set_3 = xSet(\"squat\", 240, 5)\n",
    "squat_set_3.time += datetime.timedelta(0, 80)\n",
    "\n",
    "\n",
    "shoulder_set_1 = xSet(\"shoulder press\", 50, 10)\n",
    "shoulder_set_1.time += datetime.timedelta(0, 50)\n",
    "\n",
    "shoulder_set_2 = xSet(\"shoulder press\", 55, 12)\n",
    "shoulder_set_2.time += datetime.timedelta(0, 70)\n",
    "\n",
    "shoulder_set_3 = xSet(\"shoulder press\", 56, 12)\n",
    "shoulder_set_3.time += datetime.timedelta(0, 90)\n",
    "\n",
    "# Creating exercises\n",
    "exercise = Subroutine(mode=\"exercise\")\n",
    "exercise2 = Subroutine(mode=\"exercise\")\n",
    "circuit = Subroutine(mode=\"circuit\", exercises = [\"squat\", \"shoulder press\"])\n",
    "\n",
    "# Adding sets\n",
    "exercise.add_set(bench_set_1)\n",
    "exercise.add_set(bench_set_2)\n",
    "exercise.add_set(bench_set_3)\n",
    "exercise.add_set(bench_set_4)\n",
    "\n",
    "exercise2.add_set(pushup_set_1)\n",
    "exercise2.add_set(pushup_set_2)\n",
    "exercise2.add_set(pushup_set_3)\n",
    "\n",
    "circuit.add_set(squat_set_1)\n",
    "circuit.add_set(shoulder_set_1)\n",
    "circuit.add_set(squat_set_2)\n",
    "circuit.add_set(shoulder_set_2)\n",
    "circuit.add_set(squat_set_3)\n",
    "circuit.add_set(shoulder_set_3)\n",
    "\n",
    "# Create workout\n",
    "workout = Workout()\n",
    "\n",
    "#Adding subroutines\n",
    "workout.add_subroutine(exercise)\n",
    "workout.add_subroutine(exercise2)\n",
    "workout.add_subroutine(circuit)\n",
    "\n",
    "# Test volume\n",
    "workout.calculate_volume()\n",
    "\n",
    "print workout.get_avg_set_time()\n",
    "\n",
    "\n"
   ]
  },
  {
   "cell_type": "code",
   "execution_count": null,
   "metadata": {
    "collapsed": true
   },
   "outputs": [],
   "source": []
  },
  {
   "cell_type": "code",
   "execution_count": null,
   "metadata": {
    "collapsed": true
   },
   "outputs": [],
   "source": []
  }
 ],
 "metadata": {
  "kernelspec": {
   "display_name": "Python 2",
   "language": "python",
   "name": "python2"
  },
  "language_info": {
   "codemirror_mode": {
    "name": "ipython",
    "version": 2
   },
   "file_extension": ".py",
   "mimetype": "text/x-python",
   "name": "python",
   "nbconvert_exporter": "python",
   "pygments_lexer": "ipython2",
   "version": "2.7.10"
  }
 },
 "nbformat": 4,
 "nbformat_minor": 0
}
