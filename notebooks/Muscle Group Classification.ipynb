{
 "cells": [
  {
   "cell_type": "markdown",
   "metadata": {},
   "source": [
    "# Muscle Group Classification"
   ]
  },
  {
   "cell_type": "code",
   "execution_count": 1,
   "metadata": {
    "collapsed": false
   },
   "outputs": [],
   "source": [
    "from database import *\n",
    "from sklearn import feature_extraction\n",
    "from sklearn import preprocessing\n",
    "import numpy as np\n",
    "\n",
    "%load_ext autoreload\n",
    "%autoreload 2"
   ]
  },
  {
   "cell_type": "markdown",
   "metadata": {},
   "source": [
    "# Get Data from DB"
   ]
  },
  {
   "cell_type": "code",
   "execution_count": 16,
   "metadata": {
    "collapsed": false
   },
   "outputs": [],
   "source": [
    "muscle_groups = []\n",
    "labels = []\n",
    "\n",
    "# Get all exercises in DB\n",
    "exercises = exercise_collection.find({})\n",
    "\n",
    "# Get inputs and labels\n",
    "for exercise in exercises:\n",
    "    if str(exercise['muscle']).strip():\n",
    "        muscle_groups.append(str(exercise['exercise']))\n",
    "        labels.append(str(exercise['muscle']).strip())"
   ]
  },
  {
   "cell_type": "markdown",
   "metadata": {},
   "source": [
    "# Formulate feature vectors"
   ]
  },
  {
   "cell_type": "code",
   "execution_count": 17,
   "metadata": {
    "collapsed": false
   },
   "outputs": [],
   "source": [
    "from sklearn.pipeline import FeatureUnion\n",
    "\n",
    "le = preprocessing.LabelEncoder()\n",
    "\n",
    "char_vzr = feature_extraction.text.CountVectorizer(lowercase=True, ngram_range=(3,8), analyzer='char', encoding='utf-8')\n",
    "word_vzr = feature_extraction.text.CountVectorizer(lowercase=True, ngram_range=(1,5), analyzer='word', encoding='utf-8')\n",
    "\n",
    "vectorizer = FeatureUnion([('char',char_vzr),('word',word_vzr)])\n",
    "\n",
    "X = vectorizer.fit_transform(muscle_groups).toarray()\n",
    "Y = le.fit_transform(labels)"
   ]
  },
  {
   "cell_type": "markdown",
   "metadata": {},
   "source": [
    "# Inference"
   ]
  },
  {
   "cell_type": "code",
   "execution_count": 18,
   "metadata": {
    "collapsed": false
   },
   "outputs": [
    {
     "name": "stdout",
     "output_type": "stream",
     "text": [
      "Gaussian Accuracy: 0.984458 \n",
      "Bernoulli Accuracy: 0.800631 \n"
     ]
    }
   ],
   "source": [
    "from sklearn.naive_bayes import GaussianNB\n",
    "from sklearn.naive_bayes import BernoulliNB\n",
    "\n",
    "bnb = BernoulliNB()\n",
    "gnb = GaussianNB()\n",
    "\n",
    "gnb.fit(X, Y)\n",
    "y = gnb.predict(X)\n",
    "print \"Gaussian Accuracy: %f \" % (sum(y == Y)/float(len(Y)))\n",
    "\n",
    "bnb.fit(X,Y)\n",
    "y = bnb.predict(X)\n",
    "print \"Bernoulli Accuracy: %f \" % (sum(y == Y)/float(len(Y)))"
   ]
  },
  {
   "cell_type": "code",
   "execution_count": 44,
   "metadata": {
    "collapsed": false
   },
   "outputs": [
    {
     "data": {
      "text/plain": [
       "array(['Abductors'], \n",
       "      dtype='|S11')"
      ]
     },
     "execution_count": 44,
     "metadata": {},
     "output_type": "execute_result"
    }
   ],
   "source": [
    "le.classes_[gnb.predict(vectorizer.transform(['']).toarray())]"
   ]
  },
  {
   "cell_type": "markdown",
   "metadata": {},
   "source": [
    "# Pickle Classifier"
   ]
  },
  {
   "cell_type": "code",
   "execution_count": 45,
   "metadata": {
    "collapsed": false
   },
   "outputs": [],
   "source": [
    "import pickle\n",
    "\n",
    "pickle.dump(gnb, open('muscle_classifier.p','wb'))\n",
    "pickle.dump(vectorizer, open('muscle_classifier_vectorizer.p','wb'))\n",
    "pickle.dump(le, open('muscle_classifier_le.p','wb'))"
   ]
  },
  {
   "cell_type": "code",
   "execution_count": 47,
   "metadata": {
    "collapsed": false
   },
   "outputs": [
    {
     "name": "stdout",
     "output_type": "stream",
     "text": [
      "Counter({'chest': 1})\n"
     ]
    }
   ],
   "source": [
    "import sys\n",
    "sys.path.append('modules/')\n",
    "\n",
    "from muscle_classifier import MuscleClassifier\n",
    "\n",
    "mc = MuscleClassifier()\n",
    "print mc.predict(['bench press'])"
   ]
  },
  {
   "cell_type": "code",
   "execution_count": null,
   "metadata": {
    "collapsed": true
   },
   "outputs": [],
   "source": []
  }
 ],
 "metadata": {
  "kernelspec": {
   "display_name": "Python 2",
   "language": "python",
   "name": "python2"
  },
  "language_info": {
   "codemirror_mode": {
    "name": "ipython",
    "version": 2
   },
   "file_extension": ".py",
   "mimetype": "text/x-python",
   "name": "python",
   "nbconvert_exporter": "python",
   "pygments_lexer": "ipython2",
   "version": "2.7.11"
  }
 },
 "nbformat": 4,
 "nbformat_minor": 0
}
