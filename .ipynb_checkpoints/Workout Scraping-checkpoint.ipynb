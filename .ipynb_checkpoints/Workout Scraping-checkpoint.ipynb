{
 "cells": [
  {
   "cell_type": "code",
   "execution_count": 1,
   "metadata": {
    "collapsed": true
   },
   "outputs": [],
   "source": [
    "import urllib\n",
    "\n",
    "base_url = 'http://www.bodybuilding.com/exercises/list/index/selected/'\n",
    "letters = ['a','b','c','d','e','f','g','h','i','j','k','l','m','n','o','p','q','r','s','t','u','v','w','x','y','z']"
   ]
  },
  {
   "cell_type": "code",
   "execution_count": 15,
   "metadata": {
    "collapsed": false
   },
   "outputs": [],
   "source": [
    "results = []"
   ]
  },
  {
   "cell_type": "code",
   "execution_count": 17,
   "metadata": {
    "collapsed": false
   },
   "outputs": [
    {
     "name": "stdout",
     "output_type": "stream",
     "text": [
      " Ab Crunch Machine   Abdominals \n",
      " Ab Roller   Abdominals \n",
      " Adductor   Adductors \n",
      " Adductor/Groin    Adductors \n",
      " Advanced Kettlebell Windmill   Abdominals \n",
      " Air Bike   Abdominals \n",
      " Alien Squat   Quadriceps \n",
      " All Fours Quad Stretch   Quadriceps \n",
      " Alternate Hammer Curl   Biceps \n",
      " Alternate Heel Touchers   Abdominals \n",
      " Alternate Incline Dumbbell Curl   Biceps \n",
      " Alternate Leg Diagonal Bound   Quadriceps \n",
      " Alternating Cable Shoulder Press   Shoulders \n",
      " Alternating Deltoid Raise   Shoulders \n",
      " Alternating Floor Press   Chest \n",
      " Alternating Hang Clean   Hamstrings \n",
      " Alternating Kettlebell Press   Shoulders \n",
      " Alternating Kettlebell Row   Middle Back \n",
      " Alternating Leg Swing   Hamstrings \n",
      " Alternating Renegade Row   Middle Back \n",
      " Ankle Circles   Calves \n",
      " Ankle On The Knee   Glutes \n",
      " Anterior Tibialis-SMR   Calves \n",
      " Anti-Gravity Press   Shoulders \n",
      " Arm Circles   Shoulders \n",
      " Arnold Dumbbell Press   Shoulders \n",
      " Around The Worlds   Chest \n",
      " Assisted Chin-Up   Lats \n",
      " Atlas Stone Trainer   Lower Back \n",
      " Atlas Stones   Lower Back \n",
      " Axle Clean And Press   Shoulders \n",
      " Axle Deadlift   Lower Back \n",
      "32\n"
     ]
    }
   ],
   "source": [
    "for letter in letters:\n",
    "    html = str(urllib.urlopen(base_url+letter).read())\n",
    "\n",
    "    exercises = html.split('class=\"exerciseName\">')[1:]\n",
    "\n",
    "    for exercise in exercises:\n",
    "        info = exercise.split('</a>')\n",
    "        name = (info[0].split('>')[-1])\n",
    "        targeted = (info[1].split('>')[-1])\n",
    "\n",
    "        try:\n",
    "            rating = (info[2].split(\"rating\"))[1].split('<')[0].split('>')[1]\n",
    "        except:\n",
    "            rating = None\n",
    "            \n",
    "        results.append((name, targeted, rating))\n",
    "        print name, targeted, rating\n",
    "        \n",
    "    print len(results)\n",
    "    \n",
    "    break"
   ]
  },
  {
   "cell_type": "code",
   "execution_count": null,
   "metadata": {
    "collapsed": true
   },
   "outputs": [],
   "source": []
  }
 ],
 "metadata": {
  "kernelspec": {
   "display_name": "Python 2",
   "language": "python",
   "name": "python2"
  },
  "language_info": {
   "codemirror_mode": {
    "name": "ipython",
    "version": 2
   },
   "file_extension": ".py",
   "mimetype": "text/x-python",
   "name": "python",
   "nbconvert_exporter": "python",
   "pygments_lexer": "ipython2",
   "version": "2.7.11"
  }
 },
 "nbformat": 4,
 "nbformat_minor": 0
}
