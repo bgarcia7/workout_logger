{
 "cells": [
  {
   "cell_type": "code",
   "execution_count": 86,
   "metadata": {
    "collapsed": false
   },
   "outputs": [
    {
     "name": "stdout",
     "output_type": "stream",
     "text": [
      "The autoreload extension is already loaded. To reload it, use:\n",
      "  %reload_ext autoreload\n"
     ]
    }
   ],
   "source": [
    "%load_ext autoreload\n",
    "%autoreload 2\n",
    "\n",
    "# Imports\n",
    "import sys\n",
    "import datetime\n",
    "sys.path.append('classes/')\n",
    "sys.path.append('modules/')\n",
    "from subroutine import Subroutine\n",
    "from workout import Workout\n",
    "from xset import xSet"
   ]
  },
  {
   "cell_type": "code",
   "execution_count": 87,
   "metadata": {
    "collapsed": false
   },
   "outputs": [
    {
     "name": "stdout",
     "output_type": "stream",
     "text": [
      "6.0\n"
     ]
    }
   ],
   "source": [
    "# Creating sets\n",
    "bench_set_1 = xSet(\"bench press\", 100, 5)\n",
    "\n",
    "bench_set_2 = xSet(\"bench press\", 110, 5)\n",
    "bench_set_2.time += datetime.timedelta(0, 10)\n",
    "\n",
    "bench_set_3 = xSet(\"bench press\", 120, 5)\n",
    "bench_set_3.time += datetime.timedelta(0, 20)\n",
    "\n",
    "bench_set_4 = xSet(\"bench press\", 130, 5)\n",
    "bench_set_4.time += datetime.timedelta(0, 30)\n",
    "\n",
    "pushup_set_1 = xSet(\"push up\", None, 10)\n",
    "pushup_set_2 = xSet(\"push up\", None, 10)\n",
    "pushup_set_3 = xSet(\"push up\", None, 10)\n",
    "\n",
    "squat_set_1 = xSet(\"squat\", 200, 5)\n",
    "squat_set_1.time += datetime.timedelta(0, 40)\n",
    "\n",
    "squat_set_2 = xSet(\"squat\", 220, 5)\n",
    "squat_set_2.time += datetime.timedelta(0, 60)\n",
    "\n",
    "squat_set_3 = xSet(\"squat\", 240, 5)\n",
    "squat_set_3.time += datetime.timedelta(0, 80)\n",
    "\n",
    "\n",
    "shoulder_set_1 = xSet(\"shoulder press\", 50, 10)\n",
    "shoulder_set_1.time += datetime.timedelta(0, 50)\n",
    "\n",
    "shoulder_set_2 = xSet(\"shoulder press\", 55, 12)\n",
    "shoulder_set_2.time += datetime.timedelta(0, 70)\n",
    "\n",
    "shoulder_set_3 = xSet(\"shoulder press\", 56, 12)\n",
    "shoulder_set_3.time += datetime.timedelta(0, 90)\n",
    "\n",
    "# Creating exercises\n",
    "exercise = Subroutine(mode=\"exercise\")\n",
    "exercise2 = Subroutine(mode=\"exercise\")\n",
    "circuit = Subroutine(mode=\"circuit\", exercises = [\"squat\", \"shoulder press\"])\n",
    "\n",
    "# Adding sets\n",
    "exercise.add_set(bench_set_1)\n",
    "exercise.add_set(bench_set_2)\n",
    "exercise.add_set(bench_set_3)\n",
    "exercise.add_set(bench_set_4)\n",
    "\n",
    "exercise2.add_set(pushup_set_1)\n",
    "exercise2.add_set(pushup_set_2)\n",
    "exercise2.add_set(pushup_set_3)\n",
    "\n",
    "circuit.add_set(squat_set_1)\n",
    "circuit.add_set(shoulder_set_1)\n",
    "circuit.add_set(squat_set_2)\n",
    "circuit.add_set(shoulder_set_2)\n",
    "circuit.add_set(squat_set_3)\n",
    "circuit.add_set(shoulder_set_3)\n",
    "\n",
    "# Create workout\n",
    "workout = Workout()\n",
    "\n",
    "#Adding subroutines\n",
    "workout.add_subroutine(exercise)\n",
    "workout.add_subroutine(exercise2)\n",
    "workout.add_subroutine(circuit)\n",
    "\n",
    "# Test volume\n",
    "workout.calculate_volume()\n",
    "\n",
    "workout.calculate_num_sets()\n",
    "workout.calculate_total_set_time()\n",
    "print workout.get_avg_set_time()\n",
    "\n",
    "\n"
   ]
  },
  {
   "cell_type": "code",
   "execution_count": null,
   "metadata": {
    "collapsed": true
   },
   "outputs": [],
   "source": []
  },
  {
   "cell_type": "code",
   "execution_count": null,
   "metadata": {
    "collapsed": true
   },
   "outputs": [],
   "source": []
  }
 ],
 "metadata": {
  "kernelspec": {
   "display_name": "Python 2",
   "language": "python",
   "name": "python2"
  },
  "language_info": {
   "codemirror_mode": {
    "name": "ipython",
    "version": 2
   },
   "file_extension": ".py",
   "mimetype": "text/x-python",
   "name": "python",
   "nbconvert_exporter": "python",
   "pygments_lexer": "ipython2",
   "version": "2.7.10"
  }
 },
 "nbformat": 4,
 "nbformat_minor": 0
}
