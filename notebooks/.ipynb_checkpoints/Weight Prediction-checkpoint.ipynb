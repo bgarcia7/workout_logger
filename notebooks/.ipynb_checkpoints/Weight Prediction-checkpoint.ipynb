{
 "cells": [
  {
   "cell_type": "markdown",
   "metadata": {},
   "source": [
    "# Fit Curve "
   ]
  },
  {
   "cell_type": "code",
   "execution_count": 63,
   "metadata": {
    "collapsed": false
   },
   "outputs": [
    {
     "name": "stdout",
     "output_type": "stream",
     "text": [
      "[15, 1, 3, 5, 10, 15] [135, 221.02161100196463, 207.76031434184674, 194.49901768172887, 165.76620825147347, 143.664047151277]\n"
     ]
    }
   ],
   "source": [
    "import numpy as np\n",
    "import matplotlib.pyplot as plt\n",
    "\n",
    "%matplotlib inline\n",
    "\n",
    "data = [[20, 15, 13, 5],[135, 155, 165, 195]]\n",
    "deg = 1\n",
    "x_proj, y_proj = calculate_data_points(135, 15)\n",
    "curves = fit_local_curves(x_proj,y_proj)\n",
    "\n",
    "print x_proj, y_proj\n",
    "\n",
    "p = np.polyfit(data[0],data[1], deg)\n"
   ]
  },
  {
   "cell_type": "code",
   "execution_count": 64,
   "metadata": {
    "collapsed": false
   },
   "outputs": [
    {
     "data": {
      "text/plain": [
       "(0, 250)"
      ]
     },
     "execution_count": 64,
     "metadata": {},
     "output_type": "execute_result"
    },
    {
     "data": {
      "image/png": "[encoded data removed]",
      "text/plain": [
       "<matplotlib.figure.Figure at 0x10b4d1390>"
      ]
     },
     "metadata": {},
     "output_type": "display_data"
    }
   ],
   "source": [
    "xs = [x for x in range(1,22)]\n",
    "ys = [p[0]*(x**deg)+p[1] for x in xs]\n",
    "\n",
    "plt.plot(xs,ys)\n",
    "plt.scatter(x_proj,y_proj)\n",
    "axes = plt.gca()\n",
    "axes.set_ylim([0,250])"
   ]
  },
  {
   "cell_type": "code",
   "execution_count": 54,
   "metadata": {
    "collapsed": false
   },
   "outputs": [],
   "source": [
    "def calculate_data_points(weight, reps):\n",
    "    \n",
    "    RM = weight/(1.0278 - (0.0278*reps))\n",
    "    return [reps, 1, 3, 5, 10, 15], [weight, RM,0.94*RM,0.88*RM,0.75*RM,0.65*RM]"
   ]
  },
  {
   "cell_type": "code",
   "execution_count": null,
   "metadata": {
    "collapsed": true
   },
   "outputs": [],
   "source": []
  }
 ],
 "metadata": {
  "kernelspec": {
   "display_name": "Python 2",
   "language": "python",
   "name": "python2"
  },
  "language_info": {
   "codemirror_mode": {
    "name": "ipython",
    "version": 2
   },
   "file_extension": ".py",
   "mimetype": "text/x-python",
   "name": "python",
   "nbconvert_exporter": "python",
   "pygments_lexer": "ipython2",
   "version": "2.7.11"
  }
 },
 "nbformat": 4,
 "nbformat_minor": 0
}
