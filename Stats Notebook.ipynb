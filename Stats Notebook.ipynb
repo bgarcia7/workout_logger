{
 "cells": [
  {
   "cell_type": "code",
   "execution_count": 6,
   "metadata": {
    "collapsed": false
   },
   "outputs": [],
   "source": [
    "# Imports\n",
    "import sys\n",
    "sys.path.append('classes/')\n",
    "sys.path.append('modules/')\n",
    "from subroutine import Subroutine\n",
    "from workout import Workout\n",
    "from xset import xSet"
   ]
  },
  {
   "cell_type": "code",
   "execution_count": 11,
   "metadata": {
    "collapsed": false
   },
   "outputs": [
    {
     "ename": "IndexError",
     "evalue": "list index out of range",
     "output_type": "error",
     "traceback": [
      "\u001b[0;31m---------------------------------------------------------------------------\u001b[0m",
      "\u001b[0;31mIndexError\u001b[0m                                Traceback (most recent call last)",
      "\u001b[0;32m<ipython-input-11-94f4d403e71f>\u001b[0m in \u001b[0;36m<module>\u001b[0;34m()\u001b[0m\n\u001b[1;32m     14\u001b[0m \u001b[0;34m\u001b[0m\u001b[0m\n\u001b[1;32m     15\u001b[0m \u001b[0;31m# Creating exercises\u001b[0m\u001b[0;34m\u001b[0m\u001b[0;34m\u001b[0m\u001b[0m\n\u001b[0;32m---> 16\u001b[0;31m \u001b[0mexercise\u001b[0m \u001b[0;34m=\u001b[0m \u001b[0mSubroutine\u001b[0m\u001b[0;34m(\u001b[0m\u001b[0mmode\u001b[0m\u001b[0;34m=\u001b[0m\u001b[0;34m\"exercise\"\u001b[0m\u001b[0;34m)\u001b[0m\u001b[0;34m\u001b[0m\u001b[0m\n\u001b[0m\u001b[1;32m     17\u001b[0m \u001b[0mcircuit\u001b[0m \u001b[0;34m=\u001b[0m \u001b[0mSubroutine\u001b[0m\u001b[0;34m(\u001b[0m\u001b[0mmode\u001b[0m\u001b[0;34m=\u001b[0m\u001b[0;34m\"circuit\"\u001b[0m\u001b[0;34m,\u001b[0m \u001b[0mexercises\u001b[0m \u001b[0;34m=\u001b[0m \u001b[0;34m[\u001b[0m\u001b[0;34m\"squat\"\u001b[0m\u001b[0;34m,\u001b[0m \u001b[0;34m\"shoulder press\"\u001b[0m\u001b[0;34m]\u001b[0m\u001b[0;34m)\u001b[0m\u001b[0;34m\u001b[0m\u001b[0m\n\u001b[1;32m     18\u001b[0m \u001b[0;34m\u001b[0m\u001b[0m\n",
      "\u001b[0;32m/Users/kelvin/Dropbox/Documents/CS294S/workout_logger/classes/subroutine.py\u001b[0m in \u001b[0;36m__init__\u001b[0;34m(self, mode, exercises)\u001b[0m\n\u001b[1;32m     16\u001b[0m                 \u001b[0mself\u001b[0m\u001b[0;34m.\u001b[0m\u001b[0msets\u001b[0m \u001b[0;34m=\u001b[0m \u001b[0mdefaultdict\u001b[0m\u001b[0;34m(\u001b[0m\u001b[0mlist\u001b[0m\u001b[0;34m)\u001b[0m\u001b[0;34m\u001b[0m\u001b[0m\n\u001b[1;32m     17\u001b[0m                 \u001b[0mself\u001b[0m\u001b[0;34m.\u001b[0m\u001b[0mnum_sets\u001b[0m \u001b[0;34m=\u001b[0m \u001b[0;36m0\u001b[0m\u001b[0;34m\u001b[0m\u001b[0m\n\u001b[0;32m---> 18\u001b[0;31m                 \u001b[0mself\u001b[0m\u001b[0;34m.\u001b[0m\u001b[0mcurr_exercise\u001b[0m \u001b[0;34m=\u001b[0m \u001b[0mexercises\u001b[0m\u001b[0;34m[\u001b[0m\u001b[0;36m0\u001b[0m\u001b[0;34m]\u001b[0m\u001b[0;34m\u001b[0m\u001b[0m\n\u001b[0m\u001b[1;32m     19\u001b[0m \u001b[0;34m\u001b[0m\u001b[0m\n\u001b[1;32m     20\u001b[0m         \u001b[0;32mdef\u001b[0m \u001b[0madd_set\u001b[0m\u001b[0;34m(\u001b[0m\u001b[0mself\u001b[0m\u001b[0;34m,\u001b[0m \u001b[0mxset\u001b[0m\u001b[0;34m)\u001b[0m\u001b[0;34m:\u001b[0m\u001b[0;34m\u001b[0m\u001b[0m\n",
      "\u001b[0;31mIndexError\u001b[0m: list index out of range"
     ]
    }
   ],
   "source": [
    "# Creating sets\n",
    "bench_set_1 = xSet(\"bench press\", 100, 5)\n",
    "bench_set_2 = xSet(\"bench press\", 110, 5)\n",
    "bench_set_3 = xSet(\"bench press\", 120, 5)\n",
    "bench_set_4 = xSet(\"bench press\", 130, 5)\n",
    "\n",
    "squat_set_1 = xSet(\"squat\", 200, 5)\n",
    "squat_set_2 = xSet(\"squat\", 220, 5)\n",
    "squat_set_3 = xSet(\"squat\", 240, 5)\n",
    "\n",
    "shoulder_set_1 = xSet(\"shoulder press\", 50, 10)\n",
    "shoulder_set_2 = xSet(\"shoulder press\", 55, 12)\n",
    "shoulder_set_3 = xSet(\"shoulder press\", 56, 12)\n",
    "\n",
    "# Creating exercises\n",
    "exercise = Subroutine(mode=\"exercise\")\n",
    "circuit = Subroutine(mode=\"circuit\", exercises = [\"squat\", \"shoulder press\"])\n",
    "\n",
    "# Adding sets\n",
    "exercise.addSet(bench_set_1)\n",
    "\n"
   ]
  },
  {
   "cell_type": "code",
   "execution_count": null,
   "metadata": {
    "collapsed": true
   },
   "outputs": [],
   "source": []
  }
 ],
 "metadata": {
  "kernelspec": {
   "display_name": "Python 2",
   "language": "python",
   "name": "python2"
  },
  "language_info": {
   "codemirror_mode": {
    "name": "ipython",
    "version": 2
   },
   "file_extension": ".py",
   "mimetype": "text/x-python",
   "name": "python",
   "nbconvert_exporter": "python",
   "pygments_lexer": "ipython2",
   "version": "2.7.10"
  }
 },
 "nbformat": 4,
 "nbformat_minor": 0
}
