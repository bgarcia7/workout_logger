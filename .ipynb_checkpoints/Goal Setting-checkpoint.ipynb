{
 "cells": [
  {
   "cell_type": "markdown",
   "metadata": {},
   "source": [
    "# Goal Setting"
   ]
  },
  {
   "cell_type": "code",
   "execution_count": 1,
   "metadata": {
    "collapsed": false
   },
   "outputs": [
    {
     "ename": "ImportError",
     "evalue": "No module named muscle_detector",
     "output_type": "error",
     "traceback": [
      "\u001b[0;31m---------------------------------------------------------------------------\u001b[0m",
      "\u001b[0;31mImportError\u001b[0m                               Traceback (most recent call last)",
      "\u001b[0;32m<ipython-input-1-049951c600b8>\u001b[0m in \u001b[0;36m<module>\u001b[0;34m()\u001b[0m\n\u001b[0;32m----> 1\u001b[0;31m \u001b[0;32mfrom\u001b[0m \u001b[0mmuscle_detector\u001b[0m \u001b[0;32mimport\u001b[0m \u001b[0mgoal_muscles\u001b[0m\u001b[0;34m\u001b[0m\u001b[0m\n\u001b[0m\u001b[1;32m      2\u001b[0m \u001b[0;32mfrom\u001b[0m \u001b[0mfuzzywuzzy\u001b[0m \u001b[0;32mimport\u001b[0m \u001b[0mfuzz\u001b[0m\u001b[0;34m\u001b[0m\u001b[0m\n\u001b[1;32m      3\u001b[0m \u001b[0;32mfrom\u001b[0m \u001b[0mcollections\u001b[0m \u001b[0;32mimport\u001b[0m \u001b[0mdefaultdict\u001b[0m\u001b[0;34m\u001b[0m\u001b[0m\n\u001b[1;32m      4\u001b[0m \u001b[0;34m\u001b[0m\u001b[0m\n\u001b[1;32m      5\u001b[0m \u001b[0;32mdef\u001b[0m \u001b[0mprocess\u001b[0m\u001b[0;34m(\u001b[0m\u001b[0muser\u001b[0m\u001b[0;34m,\u001b[0m \u001b[0muser_id\u001b[0m\u001b[0;34m,\u001b[0m \u001b[0mtext\u001b[0m\u001b[0;34m)\u001b[0m\u001b[0;34m:\u001b[0m\u001b[0;34m\u001b[0m\u001b[0m\n",
      "\u001b[0;31mImportError\u001b[0m: No module named muscle_detector"
     ]
    }
   ],
   "source": [
    "import sys\n",
    "sys.path.append('modules/')\n",
    "\n",
    "from muscle_detector import goal_muscles\n",
    "from fuzzywuzzy import fuzz\n",
    "from collections import defaultdict\n",
    "\n",
    "def process(user, user_id, text):\n",
    "\n",
    "    muscle_groups = []\n",
    "\n",
    "    muscles = re.split(',|and',text).strip()\n",
    "\n",
    "    #=====[ Check for fuzzy match in each muscle ]=====\n",
    "    for muscle in muscles:\n",
    "        \n",
    "        rel_len = len(muscle.split())\n",
    "\n",
    "        #=====[ Iterate through each word and try to match 'l' number of words to see if \n",
    "        #=====[ we get a fuzzy match above our threshold\n",
    "        for l in xrange(1, rel_len + 1):\n",
    "\n",
    "            for idx in xrange(len(words) - l + 1):\n",
    "\n",
    "                match = fuzz.ratio(muscle, ' '.join(words[idx:idx+l]))\n",
    "\n",
    "                if match > threshold:\n",
    "\n",
    "                    print 'MUSCLE: ', muscle\n",
    "                    print 'STRING: ', ' '.join(words[idx:idx + l])\n",
    "                    print match\n",
    "                    print \n",
    "                    matches[idx].append((muscle, match))\n",
    "\n",
    "    for idx in matches:\n",
    "\n",
    "        possibled\n",
    "\n",
    "\n",
    "\n",
    "\n",
    "\n"
   ]
  },
  {
   "cell_type": "code",
   "execution_count": null,
   "metadata": {
    "collapsed": true
   },
   "outputs": [],
   "source": []
  }
 ],
 "metadata": {
  "kernelspec": {
   "display_name": "Python 2",
   "language": "python",
   "name": "python2"
  },
  "language_info": {
   "codemirror_mode": {
    "name": "ipython",
    "version": 2
   },
   "file_extension": ".py",
   "mimetype": "text/x-python",
   "name": "python",
   "nbconvert_exporter": "python",
   "pygments_lexer": "ipython2",
   "version": "2.7.11"
  }
 },
 "nbformat": 4,
 "nbformat_minor": 0
}
