{
 "cells": [
  {
   "cell_type": "code",
   "execution_count": 25,
   "metadata": {
    "collapsed": false
   },
   "outputs": [
    {
     "name": "stdout",
     "output_type": "stream",
     "text": [
      "The autoreload extension is already loaded. To reload it, use:\n",
      "  %reload_ext autoreload\n"
     ]
    }
   ],
   "source": [
    "%load_ext autoreload\n",
    "%autoreload 2\n",
    "\n",
    "# Imports\n",
    "import sys\n",
    "sys.path.append('classes/')\n",
    "sys.path.append('modules/')\n",
    "from subroutine import Subroutine\n",
    "from workout import Workout\n",
    "from xset import xSet"
   ]
  },
  {
   "cell_type": "code",
   "execution_count": 30,
   "metadata": {
    "collapsed": false
   },
   "outputs": [
    {
     "name": "stdout",
     "output_type": "stream",
     "text": [
      "2300\n",
      "5132\n"
     ]
    },
    {
     "ename": "TypeError",
     "evalue": "unsupported operand type(s) for *: 'NoneType' and 'int'",
     "output_type": "error",
     "traceback": [
      "\u001b[0;31m---------------------------------------------------------------------------\u001b[0m",
      "\u001b[0;31mTypeError\u001b[0m                                 Traceback (most recent call last)",
      "\u001b[0;32m<ipython-input-30-7b5e8f68e5f4>\u001b[0m in \u001b[0;36m<module>\u001b[0;34m()\u001b[0m\n\u001b[1;32m     52\u001b[0m \u001b[0;34m\u001b[0m\u001b[0m\n\u001b[1;32m     53\u001b[0m \u001b[0;31m# Test volume\u001b[0m\u001b[0;34m\u001b[0m\u001b[0;34m\u001b[0m\u001b[0m\n\u001b[0;32m---> 54\u001b[0;31m \u001b[0mworkout\u001b[0m\u001b[0;34m.\u001b[0m\u001b[0mcalculate_volume\u001b[0m\u001b[0;34m(\u001b[0m\u001b[0;34m)\u001b[0m\u001b[0;34m\u001b[0m\u001b[0m\n\u001b[0m\u001b[1;32m     55\u001b[0m \u001b[0;32mprint\u001b[0m \u001b[0mworkout\u001b[0m\u001b[0;34m.\u001b[0m\u001b[0mget_volume\u001b[0m\u001b[0;34m(\u001b[0m\u001b[0;34m)\u001b[0m\u001b[0;34m\u001b[0m\u001b[0m\n",
      "\u001b[0;32m/Users/kelvin/Dropbox/Documents/CS294S/workout_logger/classes/workout.py\u001b[0m in \u001b[0;36mcalculate_volume\u001b[0;34m(self)\u001b[0m\n\u001b[1;32m     73\u001b[0m \u001b[0;34m\u001b[0m\u001b[0m\n\u001b[1;32m     74\u001b[0m                 \u001b[0;32mfor\u001b[0m \u001b[0msubroutine\u001b[0m \u001b[0;32min\u001b[0m \u001b[0mself\u001b[0m\u001b[0;34m.\u001b[0m\u001b[0msubroutines\u001b[0m\u001b[0;34m:\u001b[0m\u001b[0;34m\u001b[0m\u001b[0m\n\u001b[0;32m---> 75\u001b[0;31m                         \u001b[0mtotal_volume\u001b[0m \u001b[0;34m+=\u001b[0m \u001b[0msubroutine\u001b[0m\u001b[0;34m.\u001b[0m\u001b[0mget_volume\u001b[0m\u001b[0;34m(\u001b[0m\u001b[0;34m)\u001b[0m\u001b[0;34m\u001b[0m\u001b[0m\n\u001b[0m\u001b[1;32m     76\u001b[0m \u001b[0;34m\u001b[0m\u001b[0m\n\u001b[1;32m     77\u001b[0m                 \u001b[0mself\u001b[0m\u001b[0;34m.\u001b[0m\u001b[0mvolume\u001b[0m \u001b[0;34m=\u001b[0m \u001b[0mtotal_volume\u001b[0m\u001b[0;34m\u001b[0m\u001b[0m\n",
      "\u001b[0;32m/Users/kelvin/Dropbox/Documents/CS294S/workout_logger/classes/subroutine.py\u001b[0m in \u001b[0;36mget_volume\u001b[0;34m(self)\u001b[0m\n\u001b[1;32m     75\u001b[0m                 \u001b[0;32mfor\u001b[0m \u001b[0mset_list\u001b[0m \u001b[0;32min\u001b[0m \u001b[0mself\u001b[0m\u001b[0;34m.\u001b[0m\u001b[0msets\u001b[0m\u001b[0;34m.\u001b[0m\u001b[0mvalues\u001b[0m\u001b[0;34m(\u001b[0m\u001b[0;34m)\u001b[0m\u001b[0;34m:\u001b[0m\u001b[0;34m\u001b[0m\u001b[0m\n\u001b[1;32m     76\u001b[0m                         \u001b[0;32mfor\u001b[0m \u001b[0mxset\u001b[0m \u001b[0;32min\u001b[0m \u001b[0mset_list\u001b[0m\u001b[0;34m:\u001b[0m\u001b[0;34m\u001b[0m\u001b[0m\n\u001b[0;32m---> 77\u001b[0;31m                                 \u001b[0mtotal_volume\u001b[0m \u001b[0;34m+=\u001b[0m \u001b[0mxset\u001b[0m\u001b[0;34m.\u001b[0m\u001b[0mget_volume\u001b[0m\u001b[0;34m(\u001b[0m\u001b[0;34m)\u001b[0m\u001b[0;34m\u001b[0m\u001b[0m\n\u001b[0m\u001b[1;32m     78\u001b[0m \u001b[0;34m\u001b[0m\u001b[0m\n\u001b[1;32m     79\u001b[0m                 \u001b[0;32mreturn\u001b[0m \u001b[0mtotal_volume\u001b[0m\u001b[0;34m\u001b[0m\u001b[0m\n",
      "\u001b[0;32m/Users/kelvin/Dropbox/Documents/CS294S/workout_logger/classes/xset.py\u001b[0m in \u001b[0;36mget_volume\u001b[0;34m(self)\u001b[0m\n\u001b[1;32m     23\u001b[0m \u001b[0;34m\u001b[0m\u001b[0m\n\u001b[1;32m     24\u001b[0m         \u001b[0;32mdef\u001b[0m \u001b[0mget_volume\u001b[0m\u001b[0;34m(\u001b[0m\u001b[0mself\u001b[0m\u001b[0;34m)\u001b[0m\u001b[0;34m:\u001b[0m\u001b[0;34m\u001b[0m\u001b[0m\n\u001b[0;32m---> 25\u001b[0;31m                 \u001b[0;32mreturn\u001b[0m \u001b[0mself\u001b[0m\u001b[0;34m.\u001b[0m\u001b[0mweight\u001b[0m \u001b[0;34m*\u001b[0m \u001b[0mself\u001b[0m\u001b[0;34m.\u001b[0m\u001b[0mreps\u001b[0m\u001b[0;34m\u001b[0m\u001b[0m\n\u001b[0m",
      "\u001b[0;31mTypeError\u001b[0m: unsupported operand type(s) for *: 'NoneType' and 'int'"
     ]
    }
   ],
   "source": [
    "# Creating sets\n",
    "bench_set_1 = xSet(\"bench press\", 100, 5)\n",
    "bench_set_2 = xSet(\"bench press\", 110, 5)\n",
    "bench_set_3 = xSet(\"bench press\", 120, 5)\n",
    "bench_set_4 = xSet(\"bench press\", 130, 5)\n",
    "\n",
    "pushup_set_1 = xSet(\"push up\", None, 10)\n",
    "pushup_set_2 = xSet(\"push up\", None, 10)\n",
    "pushup_set_3 = xSet(\"push up\", None, 10)\n",
    "\n",
    "squat_set_1 = xSet(\"squat\", 200, 5)\n",
    "squat_set_2 = xSet(\"squat\", 220, 5)\n",
    "squat_set_3 = xSet(\"squat\", 240, 5)\n",
    "\n",
    "shoulder_set_1 = xSet(\"shoulder press\", 50, 10)\n",
    "shoulder_set_2 = xSet(\"shoulder press\", 55, 12)\n",
    "shoulder_set_3 = xSet(\"shoulder press\", 56, 12)\n",
    "\n",
    "# Creating exercises\n",
    "exercise = Subroutine(mode=\"exercise\")\n",
    "exercise2 = Subroutine(mode=\"exercise\")\n",
    "circuit = Subroutine(mode=\"circuit\", exercises = [\"squat\", \"shoulder press\"])\n",
    "\n",
    "# Adding sets\n",
    "exercise.add_set(bench_set_1)\n",
    "exercise.add_set(bench_set_2)\n",
    "exercise.add_set(bench_set_3)\n",
    "exercise.add_set(bench_set_4)\n",
    "\n",
    "exercise2.add_set(pushup_set_1)\n",
    "exercise2.add_set(pushup_set_2)\n",
    "exercise2.add_set(pushup_set_3)\n",
    "\n",
    "print exercise.get_volume()\n",
    "\n",
    "circuit.add_set(squat_set_1)\n",
    "circuit.add_set(shoulder_set_1)\n",
    "circuit.add_set(squat_set_2)\n",
    "circuit.add_set(shoulder_set_2)\n",
    "circuit.add_set(squat_set_3)\n",
    "circuit.add_set(shoulder_set_3)\n",
    "\n",
    "print circuit.get_volume()\n",
    "\n",
    "# Create workout\n",
    "workout = Workout()\n",
    "\n",
    "#Adding subroutines\n",
    "workout.add_subroutine(exercise)\n",
    "workout.add_subroutine(exercise2)\n",
    "workout.add_subroutine(circuit)\n",
    "\n",
    "# Test volume\n",
    "workout.calculate_volume()\n",
    "print workout.get_volume()\n"
   ]
  },
  {
   "cell_type": "code",
   "execution_count": null,
   "metadata": {
    "collapsed": true
   },
   "outputs": [],
   "source": []
  }
 ],
 "metadata": {
  "kernelspec": {
   "display_name": "Python 2",
   "language": "python",
   "name": "python2"
  },
  "language_info": {
   "codemirror_mode": {
    "name": "ipython",
    "version": 2
   },
   "file_extension": ".py",
   "mimetype": "text/x-python",
   "name": "python",
   "nbconvert_exporter": "python",
   "pygments_lexer": "ipython2",
   "version": "2.7.10"
  }
 },
 "nbformat": 4,
 "nbformat_minor": 0
}
