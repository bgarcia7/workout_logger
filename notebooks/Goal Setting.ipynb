{
 "cells": [
  {
   "cell_type": "markdown",
   "metadata": {},
   "source": [
    "# Goal Setting"
   ]
  },
  {
   "cell_type": "code",
   "execution_count": 31,
   "metadata": {
    "collapsed": false
   },
   "outputs": [
    {
     "name": "stdout",
     "output_type": "stream",
     "text": [
      "The autoreload extension is already loaded. To reload it, use:\n",
      "  %reload_ext autoreload\n"
     ]
    }
   ],
   "source": [
    "%load_ext autoreload\n",
    "%autoreload 2\n",
    "\n",
    "import sys\n",
    "import re\n",
    "sys.path.append('modules/')\n",
    "\n",
    "from muscle_detector import grouped_muscles, muscles\n",
    "from fuzzywuzzy import fuzz\n",
    "from collections import defaultdict"
   ]
  },
  {
   "cell_type": "code",
   "execution_count": 32,
   "metadata": {
    "collapsed": false
   },
   "outputs": [],
   "source": [
    "def process(user, user_id, text):\n",
    "\n",
    "    muscle_groups = defaultdict(list)\n",
    "\n",
    "    text_muscles = [x.strip() for x in re.split(',|and',text) if x.strip()]\n",
    "\n",
    "    print text_muscles\n",
    "    #=====[ Check for fuzzy match in each muscle ]=====\n",
    "    for muscle in text_muscles:\n",
    "        \n",
    "        if muscle in muscles:\n",
    "            muscle_groups['specific'].append(muscle)\n",
    "        elif muscle in grouped_muscles:\n",
    "            muscle_groups['group'].append(muscle)\n",
    "            \n",
    "    return muscle_groups"
   ]
  },
  {
   "cell_type": "code",
   "execution_count": 34,
   "metadata": {
    "collapsed": false
   },
   "outputs": [
    {
     "name": "stdout",
     "output_type": "stream",
     "text": [
      "['back', 'triceps', 'lats']\n",
      "defaultdict(<type 'list'>, {'specific': ['triceps', 'lats'], 'group': ['back']})\n"
     ]
    }
   ],
   "source": [
    "print process('hi','b','back, triceps, and lats')"
   ]
  }
 ],
 "metadata": {
  "kernelspec": {
   "display_name": "Python 2",
   "language": "python",
   "name": "python2"
  },
  "language_info": {
   "codemirror_mode": {
    "name": "ipython",
    "version": 2
   },
   "file_extension": ".py",
   "mimetype": "text/x-python",
   "name": "python",
   "nbconvert_exporter": "python",
   "pygments_lexer": "ipython2",
   "version": "2.7.11"
  }
 },
 "nbformat": 4,
 "nbformat_minor": 0
}
