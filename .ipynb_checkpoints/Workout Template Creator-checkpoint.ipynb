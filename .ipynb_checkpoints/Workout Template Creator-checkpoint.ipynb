{
 "cells": [
  {
   "cell_type": "code",
   "execution_count": 39,
   "metadata": {
    "collapsed": false
   },
   "outputs": [
    {
     "name": "stdout",
     "output_type": "stream",
     "text": [
      "The autoreload extension is already loaded. To reload it, use:\n",
      "  %reload_ext autoreload\n"
     ]
    }
   ],
   "source": [
    "%load_ext autoreload\n",
    "%autoreload 2\n",
    "\n",
    "import sys\n",
    "sys.path.append('classes/')\n",
    "sys.path.append('modules/')\n",
    "\n",
    "from database import *\n",
    "from workout import Workout\n",
    "from subroutine import Subroutine\n",
    "from xset import xSet"
   ]
  },
  {
   "cell_type": "code",
   "execution_count": 40,
   "metadata": {
    "collapsed": false
   },
   "outputs": [],
   "source": [
    "from workout_template import WorkoutTemplate\n",
    "template = WorkoutTemplate(intro='TEST WORKOUT', author='Brandon and KD', time='40')"
   ]
  },
  {
   "cell_type": "code",
   "execution_count": 41,
   "metadata": {
    "collapsed": false
   },
   "outputs": [],
   "source": [
    "workout = Workout()"
   ]
  },
  {
   "cell_type": "code",
   "execution_count": 42,
   "metadata": {
    "collapsed": false
   },
   "outputs": [],
   "source": [
    "to_log = [(None,'135','15'),(None,'135','12'),(None,'135','10'),(None,'135','8')]\n",
    "\n",
    "workout.new_subroutine('exercise', ['bench press'])\n",
    "for ex in to_log:\n",
    "    workout.add_set(xSet(ex[0],ex[1],ex[2]))\n",
    "    \n",
    "workout.add_subroutine()\n",
    "\n",
    "to_log = [(None,None,12),(None,'25','12'),(None,None,'30'),(None,None,12),(None,'25','12'),(None,None,'30'),(None,None,12),(None,'25','12'),(None,None,'30')]\n",
    "workout.new_subroutine('circuit', ['dips', 'chest flys', 'situps'])\n",
    "for ex in to_log:\n",
    "    workout.add_set(xSet(ex[0],ex[1],ex[2]))\n",
    "\n",
    "workout.add_subroutine()\n",
    "\n",
    "\n",
    "to_log = [(None,'95','15'),(None,'135','10'),(None,'155','8'),(None,'165','6')]\n",
    "\n",
    "workout.new_subroutine('exercise', ['romanian deadlift'])\n",
    "for ex in to_log:\n",
    "    workout.add_set(xSet(ex[0],ex[1],ex[2]))\n",
    "    \n",
    "workout.add_subroutine()"
   ]
  },
  {
   "cell_type": "code",
   "execution_count": 43,
   "metadata": {
    "collapsed": false
   },
   "outputs": [
    {
     "name": "stdout",
     "output_type": "stream",
     "text": [
      "bench press: \n",
      "15 reps @ 135 lbs\n",
      "12 reps @ 135 lbs\n",
      "10 reps @ 135 lbs\n",
      "8 reps @ 135 lbs\n",
      "\n",
      "dips: \n",
      "12 reps\n",
      "12 reps\n",
      "12 reps\n",
      "\n",
      "chest flys: \n",
      "12 reps @ 25 lbs\n",
      "12 reps @ 25 lbs\n",
      "12 reps @ 25 lbs\n",
      "\n",
      "situps: \n",
      "30 reps\n",
      "30 reps\n",
      "30 reps\n",
      "\n",
      "romanian deadlift: \n",
      "15 reps @ 95 lbs\n",
      "10 reps @ 135 lbs\n",
      "8 reps @ 155 lbs\n",
      "6 reps @ 165 lbs\n",
      "\n",
      "\n"
     ]
    }
   ],
   "source": [
    "print workout.get_summary()"
   ]
  },
  {
   "cell_type": "code",
   "execution_count": 44,
   "metadata": {
    "collapsed": true
   },
   "outputs": [],
   "source": [
    "template.workout = workout"
   ]
  },
  {
   "cell_type": "code",
   "execution_count": 46,
   "metadata": {
    "collapsed": false
   },
   "outputs": [
    {
     "data": {
      "text/plain": [
       "<pymongo.results.InsertOneResult at 0x10e91c690>"
      ]
     },
     "execution_count": 46,
     "metadata": {},
     "output_type": "execute_result"
    }
   ],
   "source": [
    "import pickle\n",
    "\n",
    "templates.insert_one({\"template_object\": pickle.dumps(template)})"
   ]
  },
  {
   "cell_type": "code",
   "execution_count": 49,
   "metadata": {
    "collapsed": false
   },
   "outputs": [
    {
     "data": {
      "text/plain": [
       "'bench press: \\n15 reps @ 135 lbs\\n12 reps @ 135 lbs\\n10 reps @ 135 lbs\\n8 reps @ 135 lbs\\n\\ndips: \\n12 reps\\n12 reps\\n12 reps\\n\\nchest flys: \\n12 reps @ 25 lbs\\n12 reps @ 25 lbs\\n12 reps @ 25 lbs\\n\\nsitups: \\n30 reps\\n30 reps\\n30 reps\\n\\nromanian deadlift: \\n15 reps @ 95 lbs\\n10 reps @ 135 lbs\\n8 reps @ 155 lbs\\n6 reps @ 165 lbs\\n\\n'"
      ]
     },
     "execution_count": 49,
     "metadata": {},
     "output_type": "execute_result"
    }
   ],
   "source": [
    "temp = pickle.loads(templates.find_one()['template_object'])\n"
   ]
  },
  {
   "cell_type": "code",
   "execution_count": null,
   "metadata": {
    "collapsed": true
   },
   "outputs": [],
   "source": []
  }
 ],
 "metadata": {
  "kernelspec": {
   "display_name": "Python 2",
   "language": "python",
   "name": "python2"
  },
  "language_info": {
   "codemirror_mode": {
    "name": "ipython",
    "version": 2
   },
   "file_extension": ".py",
   "mimetype": "text/x-python",
   "name": "python",
   "nbconvert_exporter": "python",
   "pygments_lexer": "ipython2",
   "version": "2.7.11"
  }
 },
 "nbformat": 4,
 "nbformat_minor": 0
}
