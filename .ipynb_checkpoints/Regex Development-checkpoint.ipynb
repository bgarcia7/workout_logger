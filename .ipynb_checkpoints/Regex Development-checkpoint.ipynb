{
 "cells": [
  {
   "cell_type": "code",
   "execution_count": 2,
   "metadata": {
    "collapsed": false
   },
   "outputs": [],
   "source": [
    "def extract_exercise(text):\n",
    "    \"\"\" Extracts reps, exercise and weight from text \"\"\"\n",
    "\n",
    "    regexes = [\n",
    "            #=====[ rep regex ]=====\n",
    "            [{'reg_str':r'(\\d+) ?(reps)?(at ?|@ ?)?(of)?', 'match':1}], \n",
    "            #=====[ exercise regex ]=====\n",
    "            [{'reg_str':r'(\\d+) ?reps( of )?([^\\d]+)( at ?| ?@ ?)(\\d+)', 'match': 3}, \n",
    "             {'reg_str':r'(\\d+) ?reps( of )?([^\\d]+)', 'match': 3},\n",
    "             {'reg_str':r'(\\d+) ?((min(ute)?s?)|(sec(ond)?s?)|(h(ou)?rs?))( of )?([^\\d]+)( at ?| ?@ ?)(\\d+)', 'match':10},\n",
    "             {'reg_str':r'(\\d+) ?((min(ute)?s?)|(sec(ond)?s?)|(h(ou)?rs?))( of )?([^\\d]+)', 'match':10}], \n",
    "            #=====[ weight regex ]=====\n",
    "            [{'reg_str': r'(at ?|@ ?|of ?)(\\d+)', 'match': 2}]]\n",
    "\n",
    "    values = []\n",
    "\n",
    "    #=====[ Search for each exercise parameters (weight, reps, exercise) ]=====\n",
    "    for idx, reg_array in enumerate(regexes):\n",
    "\n",
    "        value_found = False\n",
    "\n",
    "        #=====[ Iterate through each regex for a particular parameter ]=====\n",
    "        for reg in reg_array:\n",
    "\n",
    "            reg_str = reg['reg_str']\n",
    "\n",
    "            #=====[ Search for regext in string ]=====\n",
    "            if re.search(reg_str, text):\n",
    "                value_found = True\n",
    "                values.append(re.search(reg_str, text).group(reg['match']))\n",
    "                break\n",
    "\n",
    "        #=====[ Return None if no reps extracted ]=====\n",
    "        if not value_found:\n",
    "            if idx == 0:\n",
    "                return None\n",
    "\n",
    "            values.append(None)\n",
    "\n",
    "    #=====[ Returns xSet object constructed from extracted reps, exercise, and weight ]=====\n",
    "    return values[1], values[2], values[0]"
   ]
  },
  {
   "cell_type": "code",
   "execution_count": null,
   "metadata": {
    "collapsed": true
   },
   "outputs": [],
   "source": [
    "for test in test_cases:\n",
    "\n",
    "    exercise, weight, reps = extract_exercise(test)\n",
    "    print '%s: %s pounds, %s reps' % (exercise, weight, reps)"
   ]
  }
 ],
 "metadata": {
  "kernelspec": {
   "display_name": "Python 2",
   "language": "python",
   "name": "python2"
  },
  "language_info": {
   "codemirror_mode": {
    "name": "ipython",
    "version": 2
   },
   "file_extension": ".py",
   "mimetype": "text/x-python",
   "name": "python",
   "nbconvert_exporter": "python",
   "pygments_lexer": "ipython2",
   "version": "2.7.11"
  }
 },
 "nbformat": 4,
 "nbformat_minor": 0
}
